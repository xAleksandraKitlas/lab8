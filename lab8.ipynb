{
  "nbformat": 4,
  "nbformat_minor": 0,
  "metadata": {
    "colab": {
      "provenance": [],
      "include_colab_link": true
    },
    "kernelspec": {
      "name": "python3",
      "display_name": "Python 3"
    },
    "language_info": {
      "name": "python"
    },
    "accelerator": "GPU",
    "gpuClass": "standard"
  },
  "cells": [
    {
      "cell_type": "markdown",
      "metadata": {
        "id": "view-in-github",
        "colab_type": "text"
      },
      "source": [
        "<a href=\"https://colab.research.google.com/github/xAleksandraKitlas/grafika-projrkt1/blob/main/lab8.ipynb\" target=\"_parent\"><img src=\"https://colab.research.google.com/assets/colab-badge.svg\" alt=\"Open In Colab\"/></a>"
      ]
    },
    {
      "cell_type": "markdown",
      "source": [
        "Najpierw wykonujemy instalacje środowiska\n"
      ],
      "metadata": {
        "id": "mVsRkS-7tcGm"
      }
    },
    {
      "cell_type": "code",
      "execution_count": null,
      "metadata": {
        "colab": {
          "base_uri": "https://localhost:8080/"
        },
        "id": "CzHMUTfacrR1",
        "outputId": "53195c35-0b9f-4eb8-c6a1-1fdcd6326d6f"
      },
      "outputs": [
        {
          "output_type": "stream",
          "name": "stdout",
          "text": [
            "nvcc: NVIDIA (R) Cuda compiler driver\n",
            "Copyright (c) 2005-2021 NVIDIA Corporation\n",
            "Built on Sun_Feb_14_21:12:58_PST_2021\n",
            "Cuda compilation tools, release 11.2, V11.2.152\n",
            "Build cuda_11.2.r11.2/compiler.29618528_0\n",
            "Looking in indexes: https://pypi.org/simple, https://us-python.pkg.dev/colab-wheels/public/simple/\n",
            "Collecting git+https://github.com/andreinechaev/nvcc4jupyter.git\n",
            "  Cloning https://github.com/andreinechaev/nvcc4jupyter.git to /tmp/pip-req-build-8ddy0b34\n",
            "  Running command git clone --filter=blob:none --quiet https://github.com/andreinechaev/nvcc4jupyter.git /tmp/pip-req-build-8ddy0b34\n",
            "  Resolved https://github.com/andreinechaev/nvcc4jupyter.git to commit aac710a35f52bb78ab34d2e52517237941399eff\n",
            "  Preparing metadata (setup.py) ... \u001b[?25l\u001b[?25hdone\n",
            "Building wheels for collected packages: NVCCPlugin\n",
            "  Building wheel for NVCCPlugin (setup.py) ... \u001b[?25l\u001b[?25hdone\n",
            "  Created wheel for NVCCPlugin: filename=NVCCPlugin-0.0.2-py3-none-any.whl size=4304 sha256=54ae401f1e9baf9ae5edbffa67adbcb842def5f134d4e30e3480c58f33c70d69\n",
            "  Stored in directory: /tmp/pip-ephem-wheel-cache-y6wy5u16/wheels/f3/08/cc/e2b5b0e1c92df07dbb50a6f024a68ce090f5e7b2316b41756d\n",
            "Successfully built NVCCPlugin\n",
            "Installing collected packages: NVCCPlugin\n",
            "Successfully installed NVCCPlugin-0.0.2\n",
            "created output directory at /content/src\n",
            "Out bin /content/result.out\n"
          ]
        }
      ],
      "source": [
        "!nvcc --version\n",
        "!pip install git+https://github.com/andreinechaev/nvcc4jupyter.git\n",
        "%load_ext nvcc_plugin"
      ]
    },
    {
      "cell_type": "markdown",
      "source": [
        "Nastepnie wykonuje sie kod algorytmu tworzacego fractal Mandelbrota, a takze zapisujemy do pliku punkty\n"
      ],
      "metadata": {
        "id": "KIG-2aFXticW"
      }
    },
    {
      "cell_type": "markdown",
      "source": [
        "**CPU**"
      ],
      "metadata": {
        "id": "rjOIGR1wXzi7"
      }
    },
    {
      "cell_type": "code",
      "source": [
        "%%cu\n",
        "#include <stdio.h>\n",
        "#include <time.h>\n",
        "#include <unistd.h>\n",
        "\n",
        "#define WIDTH 500\n",
        "#define HEIGHT 500\n",
        "\n",
        "// Struktura przechowująca dane piksela\n",
        "struct Pixel {\n",
        "  unsigned char r;\n",
        "  unsigned char g;\n",
        "  unsigned char b;\n",
        "};\n",
        "\n",
        "// Wyliczanie wartości fraktala Mandelbrota dla punktu\n",
        "void mandelbrot(Pixel *pixels, int width, int height) {\n",
        "  for (int y = 0; y < height; y++) {\n",
        "    for (int x = 0; x < width; x++) {\n",
        "      float real = (x - width/2.0f) * 4.0f/width;\n",
        "      float imag = (y - height/2.0f) * 4.0f/width;\n",
        "\n",
        "      float c_real = real;\n",
        "      float c_imag = imag;\n",
        "\n",
        "      int value = 0;\n",
        "      int iterations = 0;\n",
        "\n",
        "      while (iterations < 255 && value < 4) {\n",
        "        float r2 = real*real;\n",
        "        float i2 = imag*imag;\n",
        "\n",
        "        imag = 2*real*imag + c_imag;\n",
        "        real = r2 - i2 + c_real;\n",
        "\n",
        "        value = r2 + i2;\n",
        "        iterations++;\n",
        "      }\n",
        "\n",
        "      // Ustawianie koloru piksela na podstawie liczby iteracji\n",
        "      Pixel p;\n",
        "      p.r = iterations;\n",
        "      p.g = iterations;\n",
        "      p.b = iterations;\n",
        "      pixels[y*width + x] = p;\n",
        "    }\n",
        "  }\n",
        "}\n",
        "\n",
        "int main() {\n",
        "  clock_t start_time = clock();\n",
        "  // Alokowanie pamięci na obraz\n",
        "  Pixel *pixels = (Pixel*)malloc(WIDTH*HEIGHT*sizeof(Pixel));\n",
        "\n",
        "  // Wywołaj funkcję mandelbrot\n",
        "  mandelbrot(pixels, WIDTH, HEIGHT);\n",
        "\n",
        " // Zapisz wynik do pliku\n",
        " FILE *f = fopen(\"fractal.txt\", \"w\");\n",
        " for (int y = 0; y < HEIGHT; y++) {\n",
        "   for (int x = 0; x < WIDTH; x++) {\n",
        "     Pixel p = pixels[y*WIDTH + x];\n",
        "     fprintf(f, \"%d %d %d\\n\", p.r, p.g, p.b);\n",
        "   }\n",
        " }\n",
        "fclose(f);\n",
        "\n",
        "// Zwalnianie pamięci\n",
        "free(pixels);\n",
        "clock_t end_time = clock();\n",
        "double elapsed_time = (double)(end_time - start_time) / CLOCKS_PER_SEC;\n",
        "printf(\"Czas wykonywania programu: %f sekund\\n\", elapsed_time);\n",
        "\n",
        "int result = access(\"data.csv\", F_OK);\n",
        "if(result==-1){\n",
        "// Zapisz dane do pliku\n",
        "  FILE *k = fopen(\"data.csv\", \"w\");\n",
        "  fprintf(k, \"Czas trwania programu [s],Wartość\\n\");\n",
        "  fprintf(k, \"%.2f,%.d\\n\", elapsed_time, WIDTH);\n",
        "  fclose(k);}\n",
        "else{\n",
        "  FILE *k = fopen(\"data.csv\", \"a\");\n",
        "  fprintf(k, \"%.2f,%.d\\n\", elapsed_time, WIDTH);\n",
        "  fclose(k);}\n",
        "\n",
        "return 0;\n",
        "}"
      ],
      "metadata": {
        "colab": {
          "base_uri": "https://localhost:8080/"
        },
        "id": "nyzBc-rRdjEz",
        "outputId": "be6be82b-9ee8-4019-913c-1fcfc172762b"
      },
      "execution_count": null,
      "outputs": [
        {
          "output_type": "stream",
          "name": "stdout",
          "text": [
            "Czas wykonywania programu: 0.107110 sekund\n",
            "\n"
          ]
        }
      ]
    },
    {
      "cell_type": "markdown",
      "source": [
        "Tutaj odczytujemy punkty i rysujemy fractal"
      ],
      "metadata": {
        "id": "JonEDfx-1DvO"
      }
    },
    {
      "cell_type": "code",
      "source": [
        "from PIL import Image\n",
        "\n",
        "# Otwieranie pliku tekstowego i wczytywanie danych pikseli\n",
        "with open(\"fractal.txt\") as f:\n",
        "    pixels = [tuple(map(int, line.split())) for line in f]\n",
        "\n",
        "# Rysowanie obrazu i ustawianie kolory pikseli\n",
        "width = 1500\n",
        "height = 1500\n",
        "image = Image.new(\"RGB\", (width, height))\n",
        "image.putdata(pixels)\n",
        "\n",
        "# Zapisywanie obraz\n",
        "image.save(\"fractal.png\")"
      ],
      "metadata": {
        "id": "4oJauyk9dlga"
      },
      "execution_count": null,
      "outputs": []
    },
    {
      "cell_type": "markdown",
      "source": [
        "**GPU**"
      ],
      "metadata": {
        "id": "GMjEimF5YQ76"
      }
    },
    {
      "cell_type": "code",
      "source": [
        "%%cu\n",
        "#include<stdio.h>\n",
        "#define DIM 2000\n",
        "\n",
        "//struktura liczby zespolonej\n",
        "//zmienna r to część rzeczywista\n",
        "//zmienna i to część urojona\n",
        "//dla CUDA, tutaj __device__ oznaczającego, że dany fragment kodu \n",
        "//ma zostać wykonany na GPU. Należy pamiętać, że funkcje\n",
        "//zadeklarowane jako __device__ można wywoływać tylko z innych \n",
        "//funkcji tego samego typu lub typu __global__\n",
        "struct cuComplex{\n",
        "  float r;\n",
        "  float i;\n",
        "  __device__ cuComplex(float a, float b):r(a),i(b){}\n",
        "  __device__ float magnitude2(void){ return r*r+i*i; }\n",
        "  __device__ cuComplex operator*(const cuComplex &a){\n",
        "       return cuComplex(r*a.r-i*a.i,i*a.r+r*a.i); }\n",
        "  __device__ cuComplex operator+(const cuComplex &a){\n",
        "       return cuComplex(r+a.r,i+a.i); }\n",
        "};\n",
        "\n",
        "//funkcja mandelbrot oblicza poszczególne wartości dla poszczególnych pixeli\n",
        "__device__  int mandelbrot(int x, int y){\n",
        "  const float scale=1.5;\n",
        "  float jx=scale*(float)(DIM/2-x)/(DIM/2);\n",
        "  float jy=scale*(float)(DIM/2-y)/(DIM/2);\n",
        "  cuComplex c(jx,jy);\n",
        "  cuComplex a(0,0);\n",
        "  int i=0;\n",
        "  for(i=0;i<200;i++){\n",
        "    a=a*a+c;\n",
        "    if(a.magnitude2()>1000) return 0; \n",
        "  }\n",
        "  return 1;\n",
        "}\n",
        "\n",
        "//pusta funkcje o nazwie kernel() z kwalifikatorem __global__ - informuje on\n",
        "//kompilator o tym, że dana funkcja powinna zostać skompilowana dla\n",
        "//urządzenia a nie hosta\n",
        "__global__ void kernel(unsigned char *ptr){\n",
        "  int x=blockIdx.x;\n",
        "  int y=blockIdx.y;\n",
        "  int offset=x+y*gridDim.x;\n",
        "  int mandelbrotValue=mandelbrot(x,y);\n",
        "  ptr[offset*4+0]=255*mandelbrotValue;\n",
        "  ptr[offset*4+1]=0;\n",
        "  ptr[offset*4+2]=0;\n",
        "  ptr[offset*4+3]=255;\n",
        "}\n",
        "\n",
        "struct DataBlock{\n",
        "  unsigned char *dev_bitmap;\n",
        "};\n",
        "\n",
        "//metoda wypisująca wartości RGB dla każdego poszczególnego pixela\n",
        "void wypisz_RGB_fraktal(unsigned char *ptr){\n",
        "  for(int y=0;y<DIM;y++){\n",
        "    for(int x=0;x<DIM;x++){\n",
        "      int offset=x+y*DIM;\n",
        "      printf(\"\\n%d, %d, %d, %d\", ptr[offset*4+0], ptr[offset*4+1], ptr[offset*4+2], ptr[offset*4+3]);\n",
        "    }\n",
        "  }\n",
        "}\n",
        "\n",
        "//funkcja która zapisuje wartości rgb do pliku .ppm\n",
        "// struktura pliku:\n",
        "//#'P3 \n",
        "//# R G B'\n",
        "void save_to_file(unsigned char *ptr){\n",
        "  FILE *fp=fopen(\"Fraktal_M_GPU.ppm\",\"w\");\n",
        "  fprintf(fp,\"P3\\n%d %d\\n255\\n\", DIM, DIM);\n",
        "  for(int y=0;y<DIM;y++){\n",
        "    for(int x=0;x<DIM;x++){\n",
        "      int offset=x+y*DIM;\n",
        "      fprintf(fp,\"\\n%d %d %d\", ptr[offset*4+1], ptr[offset*4+0],ptr[offset*4+2]);\n",
        "    }\n",
        "  }\n",
        "  fclose(fp);\n",
        "}                                                                                                                                                                                                              \n",
        "\n",
        "//funkcja główna\n",
        "//Uruchamiany tu jest zegar, liczy on czas wykonania zadania\n",
        "//funkcja cudaMalloc() rezerwuje w pamięci GPU miejsce na przekazany argument.\n",
        "//zmienna dim3 odpowiada za definiowanie wątków jako zmienną dwu wymiarową.\n",
        "//kernel<<<x,y>>>() wywołuje funkcję kernel.\n",
        "//cudaMemcpy() kopiuje parametr z pamięci host do pamięci device.\n",
        "//cudaFree() zwalnia pamięć\n",
        "int main(void){\n",
        "  clock_t start, end;\n",
        "  double execution_time;\n",
        "  start = clock();\n",
        "\n",
        "  DataBlock data;\n",
        "  unsigned char *bitmap = (unsigned char*)malloc(DIM*DIM*4*sizeof(unsigned char));\n",
        "  int image_size = DIM*DIM*4;\n",
        "  unsigned char *dev_bitmap;\n",
        "  cudaMalloc((void**)&dev_bitmap, image_size);\n",
        "  data.dev_bitmap=dev_bitmap;\n",
        "  dim3 grid(DIM,DIM);\n",
        "  kernel<<<grid,1>>>(dev_bitmap);\n",
        "  cudaMemcpy(bitmap,dev_bitmap,image_size,cudaMemcpyDeviceToHost);\n",
        "  cudaFree(dev_bitmap);\n",
        "  save_to_file (bitmap);\n",
        "\n",
        "  end = clock();\n",
        "  execution_time = ((double)(end - start))/CLOCKS_PER_SEC;\n",
        "  printf(\"Wykonanie zadania zajeło: %f sekund\\n\", execution_time);\n",
        "}"
      ],
      "metadata": {
        "colab": {
          "base_uri": "https://localhost:8080/"
        },
        "id": "emjGWbSrYQqt",
        "outputId": "25f8813a-8f3b-41b3-9487-eb18310c952c"
      },
      "execution_count": null,
      "outputs": [
        {
          "output_type": "stream",
          "name": "stdout",
          "text": [
            "Wykonanie zadania zajeło: 1.209792 sekund\n",
            "\n"
          ]
        }
      ]
    },
    {
      "cell_type": "markdown",
      "source": [
        "Zmieniałam wymiary ręcznie w obu wypadkach: <br>\n",
        "DIM 100 <br>\n",
        "Czas wykonania programu na CPU: 0.004776 sekund <br>\n",
        "Czas wykonania programu na GPU: 0.677428 sekund <br>\n",
        "DIM 500 <br>\n",
        "Czas wykonania programu na CPU: 0.106799 sekund <br>\n",
        "Czas wykonania programu na GPU: 0.728245 sekund <br>\n",
        "DIM 1000<br>\n",
        "Czas wykonania programu na CPU: 0.440805 sekund <br>\n",
        "Czas wykonania programu na GPU: 0.775621 sekund <br>\n",
        "DIM 1500<br>\n",
        "Czas wykonania programu na CPU: 0.983370 sekund <br>\n",
        "Czas wykonania programu na GPU: 0.551098 sekund <br>\n",
        "DIM 2000<br>\n",
        "Czas wykonania programu na CPU: 1.709582 sekund <br>\n",
        "Czas wykonania programu na GPU: 1.286943 sekund <br>"
      ],
      "metadata": {
        "id": "oNUzz3cEshHM"
      }
    },
    {
      "cell_type": "markdown",
      "source": [
        "WYKRES"
      ],
      "metadata": {
        "id": "AsJPnMrfhqzT"
      }
    },
    {
      "cell_type": "code",
      "source": [
        "%matplotlib inline\n",
        "import matplotlib\n",
        "import matplotlib.pyplot as plt\n",
        "import pandas as pd\n",
        "\n",
        "# tablice z czasami CPU, GPU i badanymi DIM\n",
        "timeCPU = [0.004776, 0.106799, 0.440805, 0.983370, 1.709582]\n",
        "timeGPU = [0.677428, 0.728245, 0.775621, 0.551098, 1.286943]\n",
        "DIM = [100, 500, 1000, 1500, 2000]\n",
        "# tutaj rysujemy wykresy za pomoca matplotlib\n",
        "plt.plot(DIM, timeGPU, label = \"GPU\")\n",
        "plt.plot(DIM, timeCPU, label = \"CPU\")\n",
        "plt.legend()\n",
        "plt.show()"
      ],
      "metadata": {
        "colab": {
          "base_uri": "https://localhost:8080/",
          "height": 265
        },
        "id": "Wv0BWhIlhuZ9",
        "outputId": "f42dead0-b5f4-4033-a22a-4ce7baa5b9af"
      },
      "execution_count": null,
      "outputs": [
        {
          "output_type": "display_data",
          "data": {
            "text/plain": [
              "<Figure size 432x288 with 1 Axes>"
            ],
            "image/png": "[encoded data removed]"
          },
          "metadata": {
            "needs_background": "light"
          }
        }
      ]
    }
  ]
}